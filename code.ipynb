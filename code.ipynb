{
 "cells": [
  {
   "cell_type": "code",
   "execution_count": null,
   "id": "fc398933",
   "metadata": {},
   "outputs": [],
   "source": [
    "# !pip install pandas\n",
    "# !pip install scikit-learn\n",
    "# !pip install matplotlib\n",
    "# import pandas as pd \n"
   ]
  },
  {
   "cell_type": "code",
   "execution_count": 3,
   "id": "187acad8",
   "metadata": {},
   "outputs": [
    {
     "name": "stdout",
     "output_type": "stream",
     "text": [
      "   variance  skewness  curtosis  entropy  class\n",
      "0   3.62160    8.6661   -2.8073 -0.44699      0\n",
      "1   4.54590    8.1674   -2.4586 -1.46210      0\n",
      "2   3.86600   -2.6383    1.9242  0.10645      0\n",
      "3   3.45660    9.5228   -4.0112 -3.59440      0\n",
      "4   0.32924   -4.4552    4.5718 -0.98880      0\n"
     ]
    }
   ],
   "source": [
    "import pandas as pd \n",
    "df = pd.read_csv(\"/Users/anukulchandra/Python With Machine Learning(ES PML 2405 ) /Bank Note Authentication/BankNote_Authentication.csv\")\n",
    "print(df.head())\n"
   ]
  },
  {
   "cell_type": "code",
   "execution_count": 4,
   "id": "f5ab7063",
   "metadata": {},
   "outputs": [
    {
     "data": {
      "text/plain": [
       "(1372, 5)"
      ]
     },
     "execution_count": 4,
     "metadata": {},
     "output_type": "execute_result"
    }
   ],
   "source": [
    "df.shape"
   ]
  },
  {
   "cell_type": "code",
   "execution_count": 5,
   "id": "b55f7d51",
   "metadata": {},
   "outputs": [
    {
     "data": {
      "text/plain": [
       "class\n",
       "0    762\n",
       "1    610\n",
       "Name: count, dtype: int64"
      ]
     },
     "execution_count": 5,
     "metadata": {},
     "output_type": "execute_result"
    }
   ],
   "source": [
    "df['class'].value_counts()"
   ]
  },
  {
   "cell_type": "code",
   "execution_count": 6,
   "id": "c34c6910",
   "metadata": {},
   "outputs": [],
   "source": [
    "x = df.drop('class',axis=1)\n",
    "y = df['class']"
   ]
  },
  {
   "cell_type": "code",
   "execution_count": 7,
   "id": "1bd8d144",
   "metadata": {},
   "outputs": [
    {
     "data": {
      "text/html": [
       "<div>\n",
       "<style scoped>\n",
       "    .dataframe tbody tr th:only-of-type {\n",
       "        vertical-align: middle;\n",
       "    }\n",
       "\n",
       "    .dataframe tbody tr th {\n",
       "        vertical-align: top;\n",
       "    }\n",
       "\n",
       "    .dataframe thead th {\n",
       "        text-align: right;\n",
       "    }\n",
       "</style>\n",
       "<table border=\"1\" class=\"dataframe\">\n",
       "  <thead>\n",
       "    <tr style=\"text-align: right;\">\n",
       "      <th></th>\n",
       "      <th>variance</th>\n",
       "      <th>skewness</th>\n",
       "      <th>curtosis</th>\n",
       "      <th>entropy</th>\n",
       "    </tr>\n",
       "  </thead>\n",
       "  <tbody>\n",
       "    <tr>\n",
       "      <th>0</th>\n",
       "      <td>3.62160</td>\n",
       "      <td>8.6661</td>\n",
       "      <td>-2.8073</td>\n",
       "      <td>-0.44699</td>\n",
       "    </tr>\n",
       "    <tr>\n",
       "      <th>1</th>\n",
       "      <td>4.54590</td>\n",
       "      <td>8.1674</td>\n",
       "      <td>-2.4586</td>\n",
       "      <td>-1.46210</td>\n",
       "    </tr>\n",
       "    <tr>\n",
       "      <th>2</th>\n",
       "      <td>3.86600</td>\n",
       "      <td>-2.6383</td>\n",
       "      <td>1.9242</td>\n",
       "      <td>0.10645</td>\n",
       "    </tr>\n",
       "    <tr>\n",
       "      <th>3</th>\n",
       "      <td>3.45660</td>\n",
       "      <td>9.5228</td>\n",
       "      <td>-4.0112</td>\n",
       "      <td>-3.59440</td>\n",
       "    </tr>\n",
       "    <tr>\n",
       "      <th>4</th>\n",
       "      <td>0.32924</td>\n",
       "      <td>-4.4552</td>\n",
       "      <td>4.5718</td>\n",
       "      <td>-0.98880</td>\n",
       "    </tr>\n",
       "  </tbody>\n",
       "</table>\n",
       "</div>"
      ],
      "text/plain": [
       "   variance  skewness  curtosis  entropy\n",
       "0   3.62160    8.6661   -2.8073 -0.44699\n",
       "1   4.54590    8.1674   -2.4586 -1.46210\n",
       "2   3.86600   -2.6383    1.9242  0.10645\n",
       "3   3.45660    9.5228   -4.0112 -3.59440\n",
       "4   0.32924   -4.4552    4.5718 -0.98880"
      ]
     },
     "execution_count": 7,
     "metadata": {},
     "output_type": "execute_result"
    }
   ],
   "source": [
    "x.head()"
   ]
  },
  {
   "cell_type": "code",
   "execution_count": 8,
   "id": "354daa53",
   "metadata": {},
   "outputs": [
    {
     "data": {
      "text/plain": [
       "0    0\n",
       "1    0\n",
       "2    0\n",
       "3    0\n",
       "4    0\n",
       "Name: class, dtype: int64"
      ]
     },
     "execution_count": 8,
     "metadata": {},
     "output_type": "execute_result"
    }
   ],
   "source": [
    "y.head()"
   ]
  },
  {
   "cell_type": "code",
   "execution_count": 9,
   "id": "4c4f0fc2",
   "metadata": {},
   "outputs": [
    {
     "name": "stdout",
     "output_type": "stream",
     "text": [
      "(1372, 4) (960, 4) (412, 4)\n"
     ]
    }
   ],
   "source": [
    "# import train_test_split\n",
    "from sklearn.model_selection import train_test_split\n",
    "x_train, x_test, y_train, y_test = train_test_split(x,y,test_size=0.3, random_state=42)\n",
    "print(x.shape, x_train.shape, x_test.shape)"
   ]
  },
  {
   "cell_type": "code",
   "execution_count": 10,
   "id": "b38cabdf",
   "metadata": {},
   "outputs": [],
   "source": [
    "from sklearn.ensemble import RandomForestClassifier\n",
    "model = RandomForestClassifier()\n",
    "model.fit(x_train, y_train)\n",
    "y_pred = model.predict(x_test)\n"
   ]
  },
  {
   "cell_type": "code",
   "execution_count": 11,
   "id": "1187c7b3",
   "metadata": {},
   "outputs": [
    {
     "name": "stdout",
     "output_type": "stream",
     "text": [
      "Accuracy: 0.9975728155339806\n"
     ]
    }
   ],
   "source": [
    "# calculate accuracy\n",
    "from sklearn.metrics import accuracy_score\n",
    "accuracy = accuracy_score(y_test, y_pred)\n",
    "print(\"Accuracy:\", accuracy)"
   ]
  },
  {
   "cell_type": "code",
   "execution_count": 13,
   "id": "f49adb2f",
   "metadata": {},
   "outputs": [
    {
     "data": {
      "image/png": "[encoded data removed]",
      "text/plain": [
       "<Figure size 1200x700 with 1 Axes>"
      ]
     },
     "metadata": {},
     "output_type": "display_data"
    }
   ],
   "source": [
    "\n",
    "from sklearn.neighbors import KNeighborsClassifier\n",
    "from sklearn.naive_bayes import MultinomialNB\n",
    "from sklearn.linear_model import LogisticRegression\n",
    "from sklearn.metrics import accuracy_score, precision_score, recall_score, f1_score\n",
    "import matplotlib.pyplot as plt\n",
    "from sklearn.ensemble import RandomForestClassifier\n",
    "from sklearn.tree import DecisionTreeClassifier\n",
    "import pandas as pd\n",
    "from sklearn.linear_model import LinearRegression\n",
    "from sklearn.svm import SVC\n",
    "\n",
    "# Define models\n",
    "models = {\n",
    "    'KNN': KNeighborsClassifier(n_neighbors=60),\n",
    "    \n",
    "    'LogisticRegression': LogisticRegression(penalty='l2',C=10,class_weight='balanced',random_state=1,solver='lbfgs',n_jobs=-1),\n",
    "    'RandomForest': RandomForestClassifier(n_estimators=100, random_state=42),\n",
    "    'DecisionTree': DecisionTreeClassifier(random_state=42),\n",
    "    'SVC': SVC(kernel='linear', C=1, random_state=42)\n",
    "\n",
    "}\n",
    "\n",
    "\n",
    "results = []\n",
    "for name, model in models.items():\n",
    "    model.fit(x_train, y_train)\n",
    "    y_pred = model.predict(x_test)\n",
    "    results.append({\n",
    "        'Model': name,\n",
    "        'Accuracy': accuracy_score(y_test, y_pred),\n",
    "        'Precision': precision_score(y_test, y_pred, average='weighted', zero_division=1),\n",
    "        'Recall': recall_score(y_test, y_pred, average='weighted', zero_division=1),\n",
    "        'F1-Score': f1_score(y_test, y_pred, average='weighted', zero_division=1)\n",
    "    })\n",
    "\n",
    "# Convert to DataFrame\n",
    "df_results = pd.DataFrame(results).set_index('Model')\n",
    "\n",
    "# Plotting\n",
    "ax = df_results.plot(kind='bar', figsize=(12,7), legend=False)\n",
    "plt.title(\" Model Evaluation\")\n",
    "plt.ylabel(\"Score\")\n",
    "plt.ylim(0, 1)\n",
    "plt.xticks(rotation=0)\n",
    "\n",
    "# Bar color mapping to metric names\n",
    "colors = {\n",
    "    'Accuracy': 'steelblue',\n",
    "    'Precision': 'darkorange',\n",
    "    'Recall': 'green',\n",
    "    'F1-Score': 'crimson'\n",
    "}\n",
    "\n",
    "# Manually set colors to bars + add metric label inside each bar\n",
    "for bars, metric_name in zip(ax.containers, df_results.columns):\n",
    "    for bar in bars:\n",
    "        height = bar.get_height()\n",
    "        ax.text(bar.get_x() + bar.get_width() / 2, height + 0.01, f'{height:.2f}',\n",
    "                ha='center', va='bottom', fontsize=10, fontweight='bold',rotation =80)\n",
    "        ax.text(bar.get_x() + bar.get_width() / 2, height / 2, metric_name,\n",
    "                ha='center', va='center', color='white', fontsize=9, fontweight='bold',rotation =75)\n",
    "        bar.set_color(colors[metric_name])  # Set custom color\n",
    "\n",
    "plt.tight_layout()\n",
    "plt.show()\n",
    "\n"
   ]
  },
  {
   "cell_type": "code",
   "execution_count": null,
   "id": "a62ed0d4",
   "metadata": {},
   "outputs": [
    {
     "name": "stdout",
     "output_type": "stream",
     "text": [
      "+--------------------+----------+-----------+--------+----------+\n",
      "|       Model        | Accuracy | Precision | Recall | F1-Score |\n",
      "+--------------------+----------+-----------+--------+----------+\n",
      "|        KNN         |   0.99   |    0.99   |  0.99  |   0.99   |\n",
      "| LogisticRegression |   0.99   |    0.99   |  0.99  |   0.99   |\n",
      "|    RandomForest    |   1.0    |    1.0    |  1.0   |   1.0    |\n",
      "|    DecisionTree    |   0.98   |    0.98   |  0.98  |   0.98   |\n",
      "|        SVC         |   0.99   |    0.99   |  0.99  |   0.99   |\n",
      "+--------------------+----------+-----------+--------+----------+\n",
      "The Best Model : RandomForest\n"
     ]
    }
   ],
   "source": [
    "#!pip install prettytable\n",
    "from prettytable import PrettyTable\n",
    "\n",
    "# Create PrettyTable\n",
    "table = PrettyTable()\n",
    "table.field_names = [\"Model\", \"Accuracy\", \"Precision\", \"Recall\", \"F1-Score\"]\n",
    "\n",
    "# Add rows from df_results\n",
    "for model_name, row in df_results.iterrows():\n",
    "    accuracy = round(row['Accuracy'], 2)\n",
    "    precision = round(row['Precision'], 2)\n",
    "    recall = round(row['Recall'], 2)\n",
    "    f1 = round(row['F1-Score'], 2)\n",
    "\n",
    "    table.add_row([model_name, accuracy, precision, recall, f1])\n",
    "\n",
    "print(table)\n",
    "\n",
    "# best model\n",
    "best_model = df_results['F1-Score'] &&& df_results['Accuracy'].idxmax()\n",
    "print(\"The Best Model :\",best_model)\n"
   ]
  },
  {
   "cell_type": "code",
   "execution_count": 18,
   "id": "ba9f3445",
   "metadata": {},
   "outputs": [
    {
     "name": "stdout",
     "output_type": "stream",
     "text": [
      "✅ Pipeline trained and saved successfully with pickle!\n"
     ]
    }
   ],
   "source": [
    "import pickle\n",
    "from sklearn.pipeline import Pipeline\n",
    "from sklearn.linear_model import LogisticRegression\n",
    "from sklearn.neighbors import KNeighborsClassifier\n",
    "from sklearn.ensemble import VotingClassifier, RandomForestClassifier\n",
    "from sklearn.tree import DecisionTreeClassifier\n",
    "from sklearn.svm import SVC\n",
    "\n",
    "# Define the VotingClassifier\n",
    "voting_clf = VotingClassifier(\n",
    "    estimators=[\n",
    "        ('KNN', KNeighborsClassifier(n_neighbors=60)),\n",
    "        ('LogisticRegression', LogisticRegression(penalty='l2', C=10, class_weight='balanced',\n",
    "                                                  random_state=1, solver='lbfgs', n_jobs=-1)),\n",
    "        ('RandomForest', RandomForestClassifier(n_estimators=100, random_state=42)),\n",
    "        ('DecisionTree', DecisionTreeClassifier(random_state=42)),\n",
    "        ('SVC', SVC(kernel='linear', C=1, random_state=42))\n",
    "    ],\n",
    "    voting='hard'\n",
    ")\n",
    "\n",
    "# Define the pipeline\n",
    "pipeline = Pipeline([\n",
    "    ('classifier', voting_clf)\n",
    "])\n",
    "\n",
    "# Train the pipeline\n",
    "pipeline.fit(x_train, y_train)\n",
    "\n",
    "# Save the pipeline using pickle\n",
    "with open(\"final_pipeline.pkl\", \"wb\") as f:\n",
    "    pickle.dump(pipeline, f)\n",
    "print(\"✅ Pipeline trained and saved successfully with pickle!\")\n",
    "\n",
    "# # Load the pipeline\n",
    "# with open(\"final_pipeline.pkl\", \"rb\") as f:\n",
    "#     load_model = pickle.load(f)\n"
   ]
  }
 ],
 "metadata": {
  "kernelspec": {
   "display_name": "venv (3.13.5)",
   "language": "python",
   "name": "python3"
  },
  "language_info": {
   "codemirror_mode": {
    "name": "ipython",
    "version": 3
   },
   "file_extension": ".py",
   "mimetype": "text/x-python",
   "name": "python",
   "nbconvert_exporter": "python",
   "pygments_lexer": "ipython3",
   "version": "3.13.5"
  }
 },
 "nbformat": 4,
 "nbformat_minor": 5
}
